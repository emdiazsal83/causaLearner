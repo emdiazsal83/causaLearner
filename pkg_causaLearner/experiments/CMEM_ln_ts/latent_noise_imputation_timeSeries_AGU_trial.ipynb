{
 "cells": [
  {
   "cell_type": "markdown",
   "metadata": {},
   "source": [
    "# Latent Noise Imputation for multivariate time series where one is hidden"
   ]
  },
  {
   "cell_type": "code",
   "execution_count": 1,
   "metadata": {},
   "outputs": [],
   "source": [
    "#@title Load Packages\n",
    "# TYPE HINTS\n",
    "from typing import Tuple, Optional, Dict, Callable, Union\n",
    "\n",
    "# JAX SETTINGS\n",
    "import jax\n",
    "import jax.numpy as np\n",
    "import jax.random as random\n",
    "import numpyro\n",
    "import numpyro.distributions as dist\n",
    "import pandas as pd\n",
    "import seaborn as sns\n",
    "from numpyro.infer import SVI\n",
    "\n",
    "# NUMPY SETTINGS\n",
    "import numpy as onp\n",
    "onp.set_printoptions(precision=3, suppress=True)\n",
    "\n",
    "# MATPLOTLIB Settings\n",
    "import matplotlib as mpl\n",
    "import matplotlib.pyplot as plt\n",
    "%matplotlib inline\n",
    "%config InlineBackend.figure_format = 'retina'\n",
    "\n",
    "# SEABORN SETTINGS\n",
    "import seaborn as sns\n",
    "sns.set_context(context='talk',font_scale=0.7)\n",
    "\n",
    "# PANDAS SETTINGS\n",
    "import pandas as pd\n",
    "pd.set_option(\"display.max_rows\", 120)\n",
    "pd.set_option(\"display.max_columns\", 120)\n",
    "\n",
    "# LOGGING SETTINGS\n",
    "import sys\n",
    "import logging\n",
    "logging.basicConfig(\n",
    "    level=logging.INFO, \n",
    "    stream=sys.stdout,\n",
    "    format='%(asctime)s:%(levelname)s:%(message)s'\n",
    ")\n",
    "logger = logging.getLogger()\n",
    "#logger.setLevel(logging.INFO)\n",
    "\n",
    "import tqdm\n",
    "\n",
    "%load_ext autoreload\n",
    "%autoreload 2"
   ]
  },
  {
   "cell_type": "markdown",
   "metadata": {},
   "source": [
    "# Read in data"
   ]
  },
  {
   "cell_type": "code",
   "execution_count": 2,
   "metadata": {},
   "outputs": [
    {
     "data": {
      "text/plain": [
       "'/home/emiliano/Documents/ISP/proyectos/causality/causaLearner_R_pkg/causaLearner/pkg_causaLearner/experiments/CMEM_ln_ts'"
      ]
     },
     "execution_count": 2,
     "metadata": {},
     "output_type": "execute_result"
    }
   ],
   "source": [
    "pwd"
   ]
  },
  {
   "cell_type": "code",
   "execution_count": 84,
   "metadata": {},
   "outputs": [
    {
     "name": "stdout",
     "output_type": "stream",
     "text": [
      "/home/emiliano/Documents/ISP/proyectos/causality/causaLearner_R_pkg/causaLearner/data/timeSeries/latentNoise_xyz\n"
     ]
    }
   ],
   "source": [
    "cd \"/home/emiliano/Documents/ISP/proyectos/causality/causaLearner_R_pkg/causaLearner/data/timeSeries/latentNoise_xyz\" "
   ]
  },
  {
   "cell_type": "code",
   "execution_count": 85,
   "metadata": {},
   "outputs": [],
   "source": [
    "df = pd.read_csv(\"ts_latentNoise_xyz_4\")"
   ]
  },
  {
   "cell_type": "code",
   "execution_count": 86,
   "metadata": {},
   "outputs": [
    {
     "data": {
      "text/plain": [
       "(100, 5)"
      ]
     },
     "execution_count": 86,
     "metadata": {},
     "output_type": "execute_result"
    }
   ],
   "source": [
    "df.shape"
   ]
  },
  {
   "cell_type": "code",
   "execution_count": 87,
   "metadata": {},
   "outputs": [
    {
     "data": {
      "text/html": [
       "<div>\n",
       "<style scoped>\n",
       "    .dataframe tbody tr th:only-of-type {\n",
       "        vertical-align: middle;\n",
       "    }\n",
       "\n",
       "    .dataframe tbody tr th {\n",
       "        vertical-align: top;\n",
       "    }\n",
       "\n",
       "    .dataframe thead th {\n",
       "        text-align: right;\n",
       "    }\n",
       "</style>\n",
       "<table border=\"1\" class=\"dataframe\">\n",
       "  <thead>\n",
       "    <tr style=\"text-align: right;\">\n",
       "      <th></th>\n",
       "      <th>x1</th>\n",
       "      <th>y1</th>\n",
       "    </tr>\n",
       "  </thead>\n",
       "  <tbody>\n",
       "    <tr>\n",
       "      <td>0</td>\n",
       "      <td>0.025150</td>\n",
       "      <td>-0.359296</td>\n",
       "    </tr>\n",
       "    <tr>\n",
       "      <td>1</td>\n",
       "      <td>-0.056995</td>\n",
       "      <td>-0.374173</td>\n",
       "    </tr>\n",
       "    <tr>\n",
       "      <td>2</td>\n",
       "      <td>0.184774</td>\n",
       "      <td>-0.320722</td>\n",
       "    </tr>\n",
       "    <tr>\n",
       "      <td>3</td>\n",
       "      <td>-0.507299</td>\n",
       "      <td>-0.276530</td>\n",
       "    </tr>\n",
       "    <tr>\n",
       "      <td>4</td>\n",
       "      <td>0.671643</td>\n",
       "      <td>-0.365379</td>\n",
       "    </tr>\n",
       "  </tbody>\n",
       "</table>\n",
       "</div>"
      ],
      "text/plain": [
       "         x1        y1\n",
       "0  0.025150 -0.359296\n",
       "1 -0.056995 -0.374173\n",
       "2  0.184774 -0.320722\n",
       "3 -0.507299 -0.276530\n",
       "4  0.671643 -0.365379"
      ]
     },
     "execution_count": 87,
     "metadata": {},
     "output_type": "execute_result"
    }
   ],
   "source": [
    "df[[\"x1\",\"y1\"]].head()"
   ]
  },
  {
   "cell_type": "code",
   "execution_count": 88,
   "metadata": {},
   "outputs": [
    {
     "data": {
      "text/plain": [
       "<matplotlib.axes._subplots.AxesSubplot at 0x7fe57036c5d0>"
      ]
     },
     "execution_count": 88,
     "metadata": {},
     "output_type": "execute_result"
    },
    {
     "data": {
      "image/png": "[encoded data removed]",
      "text/plain": [
       "<Figure size 432x288 with 1 Axes>"
      ]
     },
     "metadata": {
      "image/png": {
       "height": 255,
       "width": 397
      },
      "needs_background": "light"
     },
     "output_type": "display_data"
    }
   ],
   "source": [
    "sns.lineplot(data=df[[\"x1\",\"y1\",\"z1\"]])"
   ]
  },
  {
   "cell_type": "markdown",
   "metadata": {},
   "source": [
    "# Define functions for latent noise imputation"
   ]
  },
  {
   "cell_type": "markdown",
   "metadata": {},
   "source": [
    "First jax-vectorized kernel functions"
   ]
  },
  {
   "cell_type": "code",
   "execution_count": 89,
   "metadata": {},
   "outputs": [],
   "source": [
    "#@title Kernel Functions\n",
    "\n",
    "# Squared Euclidean Distance Formula\n",
    "@jax.jit\n",
    "def sqeuclidean_distance(x, y):\n",
    "    return np.sum((x-y)**2)\n",
    "\n",
    "# RBF Kernel\n",
    "@jax.jit\n",
    "def rbf_kernel(params, x, y):\n",
    "    return np.exp( - params['gamma'] * sqeuclidean_distance(x, y))\n",
    "    \n",
    "# Covariance Matrix\n",
    "def covariance_matrix(kernel_func, x, y):\n",
    "    mapx1 = jax.vmap(lambda x, y: kernel_func(x, y), in_axes=(0, None), out_axes=0)\n",
    "    mapx2 = jax.vmap(lambda x, y: mapx1(x, y), in_axes=(None, 0), out_axes=1)\n",
    "    return mapx2(x, y)\n",
    "\n",
    "# Covariance Matrix\n",
    "def rbf_kernel_matrix(params, x, y):\n",
    "    mapx1 = jax.vmap(lambda x, y: rbf_kernel(params, x, y), in_axes=(0, None), out_axes=0)\n",
    "    mapx2 = jax.vmap(lambda x, y: mapx1(x, y), in_axes=(None, 0), out_axes=1)\n",
    "    return mapx2(x, y)"
   ]
  },
  {
   "cell_type": "markdown",
   "metadata": {},
   "source": [
    "Centering, hsic and MSE functions"
   ]
  },
  {
   "cell_type": "code",
   "execution_count": 90,
   "metadata": {},
   "outputs": [],
   "source": [
    "from jax.scipy import linalg"
   ]
  },
  {
   "cell_type": "code",
   "execution_count": 91,
   "metadata": {},
   "outputs": [],
   "source": [
    "def centering(K):\n",
    "    n_samples = K.shape[0]\n",
    "    logging.debug(f\"N: {n_samples}\")\n",
    "    logging.debug(f\"I: {np.ones((n_samples, n_samples)).shape}\")\n",
    "    H = np.eye(K.shape[0],) - (1 / n_samples) * np.ones((n_samples, n_samples))\n",
    "    return np.dot(K, H)\n",
    "\n",
    "def hsic(K_x, K_z):\n",
    "    K_x = centering(K_x)\n",
    "    K_z = centering(K_z)\n",
    "    return np.sum(K_x * K_z) / np.linalg.norm(K_x) / np.linalg.norm(K_z)\n",
    "\n",
    "def mse(y, y_hat):\n",
    "    return np.sum((y-y_hat)**2)"
   ]
  },
  {
   "cell_type": "markdown",
   "metadata": {},
   "source": [
    "Function to calculate kernel ridge regression weights based on lengthscale for input $x$ and hidden variable $z$"
   ]
  },
  {
   "cell_type": "code",
   "execution_count": 92,
   "metadata": {},
   "outputs": [],
   "source": [
    "def kernel_mat(params, K_x, Ztr, Zte, y):\n",
    "\n",
    "    #sigma = 1.0\n",
    "    #sigmaX <- 1/median(as.numeric(dist(unique(x))^2))\n",
    "    \n",
    "    distsZ = covariance_matrix(sqeuclidean_distance, Ztr, Ztr)\n",
    "    sigma = 1/np.median(distsZ)\n",
    "\n",
    "    K_z = rbf_kernel_matrix({'gamma': sigma}, Zte, Ztr)\n",
    "\n",
    "    # since we use rbf kernels this corresponds to the kernel where\n",
    "    # (x,z) is the (stacked) feature. \n",
    "    K = K_x * K_z\n",
    "\n",
    "    # cho factor the cholesky \n",
    "    L = linalg.cho_factor(K + params['lambda'] * np.eye(K.shape[0]))\n",
    "\n",
    "    # weights\n",
    "    weights = linalg.cho_solve(L, y)\n",
    "\n",
    "    # save the params\n",
    "\n",
    "\n",
    "    # return the predictions\n",
    "    return K, weights, K_z"
   ]
  },
  {
   "cell_type": "markdown",
   "metadata": {},
   "source": [
    "Lets try out this function with imported data"
   ]
  },
  {
   "cell_type": "code",
   "execution_count": 93,
   "metadata": {},
   "outputs": [
    {
     "name": "stdout",
     "output_type": "stream",
     "text": [
      "(100, 2)\n",
      "(100, 1)\n",
      "(100, 1)\n"
     ]
    }
   ],
   "source": [
    "x = df[[\"x1\",\"y1\"]]\n",
    "z = df[[\"z1\"]]\n",
    "y = df[[\"yt\"]]\n",
    "x=x.to_numpy()\n",
    "y=y.to_numpy()\n",
    "z=z.to_numpy()\n",
    "print(x.shape)\n",
    "print(y.shape)\n",
    "print(z.shape)\n",
    "(type(x))\n",
    "#x = onp.random.randn(100,2)\n",
    "#print(x.shape)\n",
    "#print(type(x))\n",
    "K_x = rbf_kernel_matrix({'gamma': 1.0}, x,x)\n"
   ]
  },
  {
   "cell_type": "code",
   "execution_count": 94,
   "metadata": {},
   "outputs": [
    {
     "data": {
      "text/plain": [
       "DeviceArray(0.007, dtype=float32)"
      ]
     },
     "execution_count": 94,
     "metadata": {},
     "output_type": "execute_result"
    }
   ],
   "source": [
    "params_real = {'lambda': 0.01, 'gamma': 1.0}\n",
    "K, alpha , K_z = kernel_mat(params_real, K_x, z,z, y)\n",
    "cka_val = hsic(K_x, K_z)\n",
    "cka_val"
   ]
  },
  {
   "cell_type": "markdown",
   "metadata": {},
   "source": [
    "Given a model, defined in params $Z$ and $\\lambda$ ($\\alpha$ is assumed to be the krr least squares estimate so is not explicitly part of the model) we calculate the different components of the penalized loss: square loss, smoothness penalty and hsic penalty between hidden variable $z$ and input $x$"
   ]
  },
  {
   "cell_type": "code",
   "execution_count": 95,
   "metadata": {},
   "outputs": [],
   "source": [
    "# for reporting purposes give back 3 terms separatley\n",
    "def model(params, K_x, y):\n",
    "\n",
    "    \n",
    "\n",
    "    # find kernel stuffs\n",
    "    K, weights , K_z  = kernel_mat(params, K_x, params['z'], params['z'], y)\n",
    "\n",
    "    # find y\n",
    "    #y_hat = np.dot(weights, K)\n",
    "    y_hat = K @ weights\n",
    "    \n",
    "    # hsic\n",
    "    hsic_val = hsic(K_x, K_z)\n",
    "\n",
    "    # calculate norm\n",
    "    penalize = np.linalg.norm(weights.T @ K @ weights)\n",
    "    monitor = {}\n",
    "    monitor = {\n",
    "        'mse': mse(y, y_hat),\n",
    "        'penalty': penalize,\n",
    "        'hsic': hsic_val,\n",
    "        'lambda': params['lambda'][0],\n",
    "        'K_z_e': np.min(linalg.eigh(K_z)[0]),\n",
    "        'K_e': np.min(linalg.eigh(K)[0]),\n",
    "\n",
    "    }\n",
    "\n",
    "    return monitor\n"
   ]
  },
  {
   "cell_type": "markdown",
   "metadata": {},
   "source": [
    "Calculate the total loss for gradient calculating purposes"
   ]
  },
  {
   "cell_type": "code",
   "execution_count": 96,
   "metadata": {},
   "outputs": [],
   "source": [
    "    \n",
    "# this for gradient calculating purposes    \n",
    "def loss(params, K_x, y):\n",
    "\n",
    "    beta = 10.\n",
    "    params['lambda'] = np.array([0.01])\n",
    "\n",
    "    # find kernel stuffs\n",
    "    K, weights , K_z  = kernel_mat(params, K_x, params['z'], params['z'], y)\n",
    "\n",
    "    #print('weights shape',weights.shape)\n",
    "    #print('K shape', K.shape)\n",
    "    # find y\n",
    "    #y_hat = np.dot(weights, K)\n",
    "    y_hat = K @ weights\n",
    "    \n",
    "    # hsic\n",
    "    hsic_val = hsic(K_x, K_z)\n",
    "\n",
    "    # calculate norm\n",
    "    penalize = np.linalg.norm(weights.T @ K @ weights)\n",
    "\n",
    "    # calcualte compute loss\n",
    "    loss_value = mse(y, y_hat) + params['lambda'] * penalize + beta * hsic_val\n",
    "\n",
    "    return loss_value[0]"
   ]
  },
  {
   "cell_type": "markdown",
   "metadata": {},
   "source": [
    "For an arbitrary $z$ calculate the loss and loss gradient"
   ]
  },
  {
   "cell_type": "code",
   "execution_count": 97,
   "metadata": {},
   "outputs": [
    {
     "name": "stdout",
     "output_type": "stream",
     "text": [
      "loss 0.5542885\n",
      "gradient loss {'lambda': array([0.], dtype=float32), 'z': DeviceArray([[-0.05 ],\n",
      "             [ 0.423],\n",
      "             [ 0.069],\n",
      "             [ 0.009],\n",
      "             [ 0.105],\n",
      "             [ 0.032],\n",
      "             [ 0.009],\n",
      "             [ 0.115],\n",
      "             [-0.01 ],\n",
      "             [ 0.05 ],\n",
      "             [ 0.253],\n",
      "             [-0.017],\n",
      "             [ 0.016],\n",
      "             [ 0.009],\n",
      "             [-0.005],\n",
      "             [ 0.17 ],\n",
      "             [-0.009],\n",
      "             [-0.029],\n",
      "             [ 0.009],\n",
      "             [-0.148],\n",
      "             [-0.084],\n",
      "             [-0.081],\n",
      "             [ 0.078],\n",
      "             [-0.368],\n",
      "             [ 0.084],\n",
      "             [ 0.003],\n",
      "             [ 0.045],\n",
      "             [-0.021],\n",
      "             [-0.012],\n",
      "             [ 0.093],\n",
      "             [-0.239],\n",
      "             [-0.12 ],\n",
      "             [ 0.081],\n",
      "             [-0.037],\n",
      "             [-0.026],\n",
      "             [ 0.024],\n",
      "             [ 0.055],\n",
      "             [-0.396],\n",
      "             [-0.059],\n",
      "             [ 0.205],\n",
      "             [ 0.106],\n",
      "             [ 0.203],\n",
      "             [-0.058],\n",
      "             [ 0.126],\n",
      "             [ 0.027],\n",
      "             [ 0.095],\n",
      "             [-0.064],\n",
      "             [ 0.036],\n",
      "             [ 0.104],\n",
      "             [-0.012],\n",
      "             [ 0.163],\n",
      "             [ 0.017],\n",
      "             [-0.238],\n",
      "             [-0.041],\n",
      "             [-0.067],\n",
      "             [-0.005],\n",
      "             [-0.138],\n",
      "             [-0.009],\n",
      "             [ 0.018],\n",
      "             [-0.005],\n",
      "             [-0.   ],\n",
      "             [-0.023],\n",
      "             [-0.433],\n",
      "             [-0.138],\n",
      "             [ 0.008],\n",
      "             [-0.018],\n",
      "             [-0.045],\n",
      "             [ 0.036],\n",
      "             [ 0.105],\n",
      "             [-0.088],\n",
      "             [-0.049],\n",
      "             [-0.045],\n",
      "             [ 0.117],\n",
      "             [ 0.421],\n",
      "             [ 0.118],\n",
      "             [ 0.017],\n",
      "             [ 0.298],\n",
      "             [-0.434],\n",
      "             [ 0.176],\n",
      "             [-0.002],\n",
      "             [-0.094],\n",
      "             [ 0.042],\n",
      "             [ 0.047],\n",
      "             [ 0.033],\n",
      "             [-0.059],\n",
      "             [-0.074],\n",
      "             [-0.231],\n",
      "             [ 0.016],\n",
      "             [-0.209],\n",
      "             [-0.026],\n",
      "             [ 0.008],\n",
      "             [ 0.104],\n",
      "             [-0.005],\n",
      "             [-0.172],\n",
      "             [ 0.188],\n",
      "             [ 0.021],\n",
      "             [-0.05 ],\n",
      "             [-0.043],\n",
      "             [-0.   ],\n",
      "             [-0.003]], dtype=float32)}\n"
     ]
    }
   ],
   "source": [
    "params = {\n",
    "    'z': z,\n",
    "    # 'lambda': np.array([0.01]),\n",
    "}\n",
    "x = df[[\"x1\",\"y1\"]]\n",
    "y = df[[\"yt\"]]\n",
    "x=x.to_numpy()\n",
    "y=y.to_numpy()\n",
    "K_x = rbf_kernel_matrix({'gamma': 1.0}, x,x)\n",
    "\n",
    "Z = np.array(0.5 * onp.random.randn(100))\n",
    "dloss = jax.grad(loss, )\n",
    "print('loss',loss(params, K_x, y))\n",
    "print('gradient loss', dloss(params, K_x, y))"
   ]
  },
  {
   "cell_type": "markdown",
   "metadata": {},
   "source": [
    "# Optimization of $Z$"
   ]
  },
  {
   "cell_type": "markdown",
   "metadata": {},
   "source": [
    "Lets initalize parameters and lists where we collect progress on loss"
   ]
  },
  {
   "cell_type": "code",
   "execution_count": 98,
   "metadata": {},
   "outputs": [],
   "source": [
    "# stochastic gradient descent \n",
    "learning_rate = 0.1\n",
    "epochs = 250\n",
    "monitors_xy = {\n",
    "    'loss': list(),\n",
    "    'hsic': list(),\n",
    "    'errs': list(),\n",
    "    'lambda': list(),\n",
    "    'K_z_e': list(),\n",
    "    'K_e': list()\n",
    "}\n",
    "\n",
    "monitors_yx = {\n",
    "    'loss': list(),\n",
    "    'hsic': list(),\n",
    "    'errs': list(),\n",
    "    'lambda': list(),\n",
    "    'K_z_e': list(),\n",
    "    'K_e': list()\n",
    "}\n",
    "\n",
    "\n",
    "rng_key = random.PRNGKey(10)\n",
    "\n",
    "# initialize parameters\n",
    "params_xy = {\n",
    "    'z': np.array(0.5 * onp.random.randn(100,1)),\n",
    "    'lambda': np.array([0.01]),\n",
    "\n",
    "}\n",
    "\n",
    "params_yx = {\n",
    "    'z': np.array(0.5 * onp.random.randn(100,1)),\n",
    "    'lambda': np.array([0.01]),\n",
    "\n",
    "}\n"
   ]
  },
  {
   "cell_type": "code",
   "execution_count": 100,
   "metadata": {},
   "outputs": [],
   "source": [
    "x1 = df[[\"x1\",\"y1\"]]\n",
    "y = df[[\"yt\"]]\n",
    "x = df[[\"xt\"]]\n",
    "x1=x1.to_numpy()\n",
    "x=x.to_numpy()\n",
    "y=y.to_numpy()\n",
    "distsX = covariance_matrix(sqeuclidean_distance, x1, x1)\n",
    "sigma = 1/np.median(distsX)\n",
    "K_x = rbf_kernel_matrix({'gamma': sigma}, x1,x1)\n",
    "\n"
   ]
  },
  {
   "cell_type": "markdown",
   "metadata": {},
   "source": [
    "Lets obtain $Z$ in $x \\rightarrow y$ direction, i.e. where $x$ is the input and $y$ the output (ground truth)"
   ]
  },
  {
   "cell_type": "code",
   "execution_count": 101,
   "metadata": {},
   "outputs": [
    {
     "name": "stderr",
     "output_type": "stream",
     "text": [
      "100%|██████████| 250/250 [00:19<00:00, 12.71it/s, loss=0.0771, hsic=-0.0001, mse=0.0174, lambda=0.0100]\n"
     ]
    }
   ],
   "source": [
    "# loop through epochs\n",
    "with tqdm.trange(epochs) as pbar:\n",
    "    for iteration in pbar:\n",
    "        monitor = model(params_xy, K_x, y)\n",
    "        monitors_xy['hsic'].append(monitor['hsic'])\n",
    "        monitors_xy['errs'].append(monitor['mse'])\n",
    "        monitors_xy['lambda'].append(monitor['lambda'])\n",
    "        monitors_xy['K_z_e'].append(monitor['K_z_e'])\n",
    "        monitors_xy['K_e'].append(monitor['K_e'])\n",
    "        # get the gradient of the loss \n",
    "        grad_params = dloss(params_xy, K_x, y)\n",
    "        # print(grad_params)\n",
    "\n",
    "        # update the parameters\n",
    "        # for name, value in grad_params.items():\n",
    "        #     params[name] = params[name] - learning_rate * jnp.mean(value, axis=0)\n",
    "        # Update weight params\n",
    "        # params['Z'] = params['Z'] - learning_rate * np.mean(grad_params['Z'], axis=0)\n",
    "        params_xy['z'] = params_xy['z'] - learning_rate * grad_params['z']\n",
    "        params_xy['lambda'] = params_xy['lambda'] - learning_rate * grad_params['lambda']\n",
    "\n",
    "        # params['lambda'] = params['lambda'] - learning_rate * np.mean(grad_params['lambda'], axis=0)\n",
    "        # append loss\n",
    "        loss_val = loss(params_xy, K_x, y)\n",
    "\n",
    "        postfix = {\n",
    "            \"loss\":f\"{loss_val:.4f}\", \n",
    "            \"hsic\":f\"{monitor['hsic']:.4f}\",\n",
    "            \"mse\":f\"{monitor['mse']:.4f}\",\n",
    "            \"lambda\":f\"{monitor['lambda']:.4f}\"\n",
    "            }\n",
    "        pbar.set_postfix(postfix)\n",
    "        monitors_xy['loss'].append(loss_val)"
   ]
  },
  {
   "cell_type": "markdown",
   "metadata": {},
   "source": [
    "... and in the $y->x$ directin"
   ]
  },
  {
   "cell_type": "code",
   "execution_count": 102,
   "metadata": {},
   "outputs": [
    {
     "name": "stderr",
     "output_type": "stream",
     "text": [
      "100%|██████████| 250/250 [00:23<00:00, 10.52it/s, loss=0.0478, hsic=-0.0019, mse=0.0071, lambda=0.0100]\n"
     ]
    }
   ],
   "source": [
    "# loop through epochs\n",
    "with tqdm.trange(epochs) as pbar:\n",
    "    for iteration in pbar:\n",
    "        monitor = model(params_yx, K_x, x)\n",
    "        monitors_yx['hsic'].append(monitor['hsic'])\n",
    "        monitors_yx['errs'].append(monitor['mse'])\n",
    "        monitors_yx['lambda'].append(monitor['lambda'])\n",
    "        monitors_yx['K_z_e'].append(monitor['K_z_e'])\n",
    "        monitors_yx['K_e'].append(monitor['K_e'])\n",
    "        # get the gradient of the loss \n",
    "        grad_params = dloss(params_yx, K_x, x)\n",
    "        # print(grad_params)\n",
    "\n",
    "        # update the parameters\n",
    "        # for name, value in grad_params.items():\n",
    "        #     params[name] = params[name] - learning_rate * jnp.mean(value, axis=0)\n",
    "        # Update weight params\n",
    "        # params['Z'] = params['Z'] - learning_rate * np.mean(grad_params['Z'], axis=0)\n",
    "        params_yx['z'] = params_yx['z'] - learning_rate * grad_params['z']\n",
    "        params_yx['lambda'] = params_yx['lambda'] - learning_rate * grad_params['lambda']\n",
    "\n",
    "        # params['lambda'] = params['lambda'] - learning_rate * np.mean(grad_params['lambda'], axis=0)\n",
    "        # append loss\n",
    "        loss_val = loss(params_yx, K_x, x)\n",
    "\n",
    "        postfix = {\n",
    "            \"loss\":f\"{loss_val:.4f}\", \n",
    "            \"hsic\":f\"{monitor['hsic']:.4f}\",\n",
    "            \"mse\":f\"{monitor['mse']:.4f}\",\n",
    "            \"lambda\":f\"{monitor['lambda']:.4f}\"\n",
    "            }\n",
    "        pbar.set_postfix(postfix)\n",
    "        monitors_yx['loss'].append(loss_val)"
   ]
  },
  {
   "cell_type": "markdown",
   "metadata": {},
   "source": [
    "# Results"
   ]
  },
  {
   "cell_type": "markdown",
   "metadata": {},
   "source": [
    "Lets graph the overall **LOSS** as a function of the epoch for both directions"
   ]
  },
  {
   "cell_type": "code",
   "execution_count": 103,
   "metadata": {},
   "outputs": [
    {
     "data": {
      "text/plain": [
       "[<matplotlib.lines.Line2D at 0x7fe55802cbd0>]"
      ]
     },
     "execution_count": 103,
     "metadata": {},
     "output_type": "execute_result"
    },
    {
     "data": {
      "image/png": "[encoded data removed]",
      "text/plain": [
       "<Figure size 432x288 with 1 Axes>"
      ]
     },
     "metadata": {
      "image/png": {
       "height": 259,
       "width": 380
      },
      "needs_background": "light"
     },
     "output_type": "display_data"
    }
   ],
   "source": [
    "plt.plot(monitors_xy['loss'])\n",
    "plt.plot(monitors_yx['loss'])"
   ]
  },
  {
   "cell_type": "markdown",
   "metadata": {},
   "source": [
    "... and **squared errors**"
   ]
  },
  {
   "cell_type": "code",
   "execution_count": 104,
   "metadata": {},
   "outputs": [
    {
     "data": {
      "text/plain": [
       "[<matplotlib.lines.Line2D at 0x7fe5380cf790>]"
      ]
     },
     "execution_count": 104,
     "metadata": {},
     "output_type": "execute_result"
    },
    {
     "data": {
      "image/png": "[encoded data removed]",
      "text/plain": [
       "<Figure size 432x288 with 1 Axes>"
      ]
     },
     "metadata": {
      "image/png": {
       "height": 255,
       "width": 380
      },
      "needs_background": "light"
     },
     "output_type": "display_data"
    }
   ],
   "source": [
    "plt.plot(monitors_xy['errs'])\n",
    "plt.plot(monitors_yx['errs'])"
   ]
  },
  {
   "cell_type": "markdown",
   "metadata": {},
   "source": [
    "... and **HSIC**"
   ]
  },
  {
   "cell_type": "code",
   "execution_count": 105,
   "metadata": {},
   "outputs": [
    {
     "data": {
      "text/plain": [
       "[<matplotlib.lines.Line2D at 0x7fe538030150>]"
      ]
     },
     "execution_count": 105,
     "metadata": {},
     "output_type": "execute_result"
    },
    {
     "data": {
      "image/png": "[encoded data removed]",
      "text/plain": [
       "<Figure size 432x288 with 1 Axes>"
      ]
     },
     "metadata": {
      "image/png": {
       "height": 255,
       "width": 387
      },
      "needs_background": "light"
     },
     "output_type": "display_data"
    }
   ],
   "source": [
    "plt.plot(monitors_xy['hsic'])\n",
    "plt.plot(monitors_yx['hsic'])"
   ]
  },
  {
   "cell_type": "markdown",
   "metadata": {},
   "source": [
    "Lets have a look at $x$ vs $<$"
   ]
  },
  {
   "cell_type": "code",
   "execution_count": 109,
   "metadata": {},
   "outputs": [
    {
     "data": {
      "text/plain": [
       "<matplotlib.collections.PathCollection at 0x7fe5702a2e10>"
      ]
     },
     "execution_count": 109,
     "metadata": {},
     "output_type": "execute_result"
    },
    {
     "data": {
      "image/png": "[encoded data removed]",
      "text/plain": [
       "<Figure size 432x288 with 1 Axes>"
      ]
     },
     "metadata": {
      "image/png": {
       "height": 255,
       "width": 389
      },
      "needs_background": "light"
     },
     "output_type": "display_data"
    }
   ],
   "source": [
    "plt.scatter(x1[:,0],params_xy[\"z\"])\n",
    "plt.scatter(x1[:,0],params_yx[\"z\"])"
   ]
  },
  {
   "cell_type": "code",
   "execution_count": 110,
   "metadata": {},
   "outputs": [
    {
     "data": {
      "text/plain": [
       "<matplotlib.collections.PathCollection at 0x7fe51433ba90>"
      ]
     },
     "execution_count": 110,
     "metadata": {},
     "output_type": "execute_result"
    },
    {
     "data": {
      "image/png": "[encoded data removed]",
      "text/plain": [
       "<Figure size 432x288 with 1 Axes>"
      ]
     },
     "metadata": {
      "image/png": {
       "height": 255,
       "width": 389
      },
      "needs_background": "light"
     },
     "output_type": "display_data"
    }
   ],
   "source": [
    "plt.scatter(x1[:,1],params_xy[\"z\"])\n",
    "plt.scatter(x1[:,1],params_yx[\"z\"])"
   ]
  },
  {
   "cell_type": "markdown",
   "metadata": {},
   "source": [
    "Lets look at $\\hat{z}$ vs $z$"
   ]
  },
  {
   "cell_type": "code",
   "execution_count": 111,
   "metadata": {},
   "outputs": [
    {
     "data": {
      "text/plain": [
       "<matplotlib.collections.PathCollection at 0x7fe5141f2d50>"
      ]
     },
     "execution_count": 111,
     "metadata": {},
     "output_type": "execute_result"
    },
    {
     "data": {
      "image/png": "[encoded data removed]",
      "text/plain": [
       "<Figure size 432x288 with 1 Axes>"
      ]
     },
     "metadata": {
      "image/png": {
       "height": 255,
       "width": 389
      },
      "needs_background": "light"
     },
     "output_type": "display_data"
    }
   ],
   "source": [
    "plt.scatter(z,params_xy[\"z\"])"
   ]
  },
  {
   "cell_type": "markdown",
   "metadata": {},
   "source": [
    "# Write results"
   ]
  },
  {
   "cell_type": "markdown",
   "metadata": {},
   "source": [
    "lets append $z^{x \\rightarrow y}$ and $z^{y \\rightarrow x}$ to df and export in .csv format"
   ]
  },
  {
   "cell_type": "code",
   "execution_count": 112,
   "metadata": {},
   "outputs": [
    {
     "data": {
      "text/html": [
       "<div>\n",
       "<style scoped>\n",
       "    .dataframe tbody tr th:only-of-type {\n",
       "        vertical-align: middle;\n",
       "    }\n",
       "\n",
       "    .dataframe tbody tr th {\n",
       "        vertical-align: top;\n",
       "    }\n",
       "\n",
       "    .dataframe thead th {\n",
       "        text-align: right;\n",
       "    }\n",
       "</style>\n",
       "<table border=\"1\" class=\"dataframe\">\n",
       "  <thead>\n",
       "    <tr style=\"text-align: right;\">\n",
       "      <th></th>\n",
       "      <th>xt</th>\n",
       "      <th>yt</th>\n",
       "      <th>x1</th>\n",
       "      <th>y1</th>\n",
       "      <th>z1</th>\n",
       "    </tr>\n",
       "  </thead>\n",
       "  <tbody>\n",
       "    <tr>\n",
       "      <td>0</td>\n",
       "      <td>-0.056995</td>\n",
       "      <td>-0.374173</td>\n",
       "      <td>0.025150</td>\n",
       "      <td>-0.359296</td>\n",
       "      <td>0.739393</td>\n",
       "    </tr>\n",
       "    <tr>\n",
       "      <td>1</td>\n",
       "      <td>0.184774</td>\n",
       "      <td>-0.320722</td>\n",
       "      <td>-0.056995</td>\n",
       "      <td>-0.374173</td>\n",
       "      <td>0.710094</td>\n",
       "    </tr>\n",
       "    <tr>\n",
       "      <td>2</td>\n",
       "      <td>-0.507299</td>\n",
       "      <td>-0.276530</td>\n",
       "      <td>0.184774</td>\n",
       "      <td>-0.320722</td>\n",
       "      <td>0.664313</td>\n",
       "    </tr>\n",
       "    <tr>\n",
       "      <td>3</td>\n",
       "      <td>0.671643</td>\n",
       "      <td>-0.365379</td>\n",
       "      <td>-0.507299</td>\n",
       "      <td>-0.276530</td>\n",
       "      <td>0.605545</td>\n",
       "    </tr>\n",
       "    <tr>\n",
       "      <td>4</td>\n",
       "      <td>-0.946800</td>\n",
       "      <td>-0.214115</td>\n",
       "      <td>0.671643</td>\n",
       "      <td>-0.365379</td>\n",
       "      <td>0.538290</td>\n",
       "    </tr>\n",
       "  </tbody>\n",
       "</table>\n",
       "</div>"
      ],
      "text/plain": [
       "         xt        yt        x1        y1        z1\n",
       "0 -0.056995 -0.374173  0.025150 -0.359296  0.739393\n",
       "1  0.184774 -0.320722 -0.056995 -0.374173  0.710094\n",
       "2 -0.507299 -0.276530  0.184774 -0.320722  0.664313\n",
       "3  0.671643 -0.365379 -0.507299 -0.276530  0.605545\n",
       "4 -0.946800 -0.214115  0.671643 -0.365379  0.538290"
      ]
     },
     "execution_count": 112,
     "metadata": {},
     "output_type": "execute_result"
    }
   ],
   "source": [
    "df.head()"
   ]
  },
  {
   "cell_type": "code",
   "execution_count": 113,
   "metadata": {},
   "outputs": [],
   "source": [
    "df2 = pd.DataFrame(params_xy[\"z\"], columns=['z_xy'])\n",
    "df3 = pd.DataFrame(params_yx[\"z\"], columns=['z_yx'])"
   ]
  },
  {
   "cell_type": "code",
   "execution_count": 114,
   "metadata": {},
   "outputs": [
    {
     "data": {
      "text/html": [
       "<div>\n",
       "<style scoped>\n",
       "    .dataframe tbody tr th:only-of-type {\n",
       "        vertical-align: middle;\n",
       "    }\n",
       "\n",
       "    .dataframe tbody tr th {\n",
       "        vertical-align: top;\n",
       "    }\n",
       "\n",
       "    .dataframe thead th {\n",
       "        text-align: right;\n",
       "    }\n",
       "</style>\n",
       "<table border=\"1\" class=\"dataframe\">\n",
       "  <thead>\n",
       "    <tr style=\"text-align: right;\">\n",
       "      <th></th>\n",
       "      <th>z_xy</th>\n",
       "    </tr>\n",
       "  </thead>\n",
       "  <tbody>\n",
       "    <tr>\n",
       "      <td>0</td>\n",
       "      <td>0.101581</td>\n",
       "    </tr>\n",
       "    <tr>\n",
       "      <td>1</td>\n",
       "      <td>0.467681</td>\n",
       "    </tr>\n",
       "    <tr>\n",
       "      <td>2</td>\n",
       "      <td>-0.150332</td>\n",
       "    </tr>\n",
       "    <tr>\n",
       "      <td>3</td>\n",
       "      <td>0.172267</td>\n",
       "    </tr>\n",
       "    <tr>\n",
       "      <td>4</td>\n",
       "      <td>-0.280297</td>\n",
       "    </tr>\n",
       "  </tbody>\n",
       "</table>\n",
       "</div>"
      ],
      "text/plain": [
       "       z_xy\n",
       "0  0.101581\n",
       "1  0.467681\n",
       "2 -0.150332\n",
       "3  0.172267\n",
       "4 -0.280297"
      ]
     },
     "execution_count": 114,
     "metadata": {},
     "output_type": "execute_result"
    }
   ],
   "source": [
    "df2.head()"
   ]
  },
  {
   "cell_type": "code",
   "execution_count": 115,
   "metadata": {},
   "outputs": [
    {
     "data": {
      "text/html": [
       "<div>\n",
       "<style scoped>\n",
       "    .dataframe tbody tr th:only-of-type {\n",
       "        vertical-align: middle;\n",
       "    }\n",
       "\n",
       "    .dataframe tbody tr th {\n",
       "        vertical-align: top;\n",
       "    }\n",
       "\n",
       "    .dataframe thead th {\n",
       "        text-align: right;\n",
       "    }\n",
       "</style>\n",
       "<table border=\"1\" class=\"dataframe\">\n",
       "  <thead>\n",
       "    <tr style=\"text-align: right;\">\n",
       "      <th></th>\n",
       "      <th>xt</th>\n",
       "      <th>yt</th>\n",
       "      <th>x1</th>\n",
       "      <th>y1</th>\n",
       "      <th>z1</th>\n",
       "      <th>z_xy</th>\n",
       "      <th>z_yx</th>\n",
       "    </tr>\n",
       "  </thead>\n",
       "  <tbody>\n",
       "    <tr>\n",
       "      <td>0</td>\n",
       "      <td>-0.056995</td>\n",
       "      <td>-0.374173</td>\n",
       "      <td>0.025150</td>\n",
       "      <td>-0.359296</td>\n",
       "      <td>0.739393</td>\n",
       "      <td>0.101581</td>\n",
       "      <td>-0.036065</td>\n",
       "    </tr>\n",
       "    <tr>\n",
       "      <td>1</td>\n",
       "      <td>0.184774</td>\n",
       "      <td>-0.320722</td>\n",
       "      <td>-0.056995</td>\n",
       "      <td>-0.374173</td>\n",
       "      <td>0.710094</td>\n",
       "      <td>0.467681</td>\n",
       "      <td>0.132678</td>\n",
       "    </tr>\n",
       "    <tr>\n",
       "      <td>2</td>\n",
       "      <td>-0.507299</td>\n",
       "      <td>-0.276530</td>\n",
       "      <td>0.184774</td>\n",
       "      <td>-0.320722</td>\n",
       "      <td>0.664313</td>\n",
       "      <td>-0.150332</td>\n",
       "      <td>-0.926941</td>\n",
       "    </tr>\n",
       "    <tr>\n",
       "      <td>3</td>\n",
       "      <td>0.671643</td>\n",
       "      <td>-0.365379</td>\n",
       "      <td>-0.507299</td>\n",
       "      <td>-0.276530</td>\n",
       "      <td>0.605545</td>\n",
       "      <td>0.172267</td>\n",
       "      <td>-0.138430</td>\n",
       "    </tr>\n",
       "    <tr>\n",
       "      <td>4</td>\n",
       "      <td>-0.946800</td>\n",
       "      <td>-0.214115</td>\n",
       "      <td>0.671643</td>\n",
       "      <td>-0.365379</td>\n",
       "      <td>0.538290</td>\n",
       "      <td>-0.280297</td>\n",
       "      <td>0.622698</td>\n",
       "    </tr>\n",
       "  </tbody>\n",
       "</table>\n",
       "</div>"
      ],
      "text/plain": [
       "         xt        yt        x1        y1        z1      z_xy      z_yx\n",
       "0 -0.056995 -0.374173  0.025150 -0.359296  0.739393  0.101581 -0.036065\n",
       "1  0.184774 -0.320722 -0.056995 -0.374173  0.710094  0.467681  0.132678\n",
       "2 -0.507299 -0.276530  0.184774 -0.320722  0.664313 -0.150332 -0.926941\n",
       "3  0.671643 -0.365379 -0.507299 -0.276530  0.605545  0.172267 -0.138430\n",
       "4 -0.946800 -0.214115  0.671643 -0.365379  0.538290 -0.280297  0.622698"
      ]
     },
     "execution_count": 115,
     "metadata": {},
     "output_type": "execute_result"
    }
   ],
   "source": [
    "df.join(df2).join(df3).head()"
   ]
  },
  {
   "cell_type": "code",
   "execution_count": 116,
   "metadata": {},
   "outputs": [
    {
     "data": {
      "text/html": [
       "<div>\n",
       "<style scoped>\n",
       "    .dataframe tbody tr th:only-of-type {\n",
       "        vertical-align: middle;\n",
       "    }\n",
       "\n",
       "    .dataframe tbody tr th {\n",
       "        vertical-align: top;\n",
       "    }\n",
       "\n",
       "    .dataframe thead th {\n",
       "        text-align: right;\n",
       "    }\n",
       "</style>\n",
       "<table border=\"1\" class=\"dataframe\">\n",
       "  <thead>\n",
       "    <tr style=\"text-align: right;\">\n",
       "      <th></th>\n",
       "      <th>xt</th>\n",
       "      <th>yt</th>\n",
       "      <th>x1</th>\n",
       "      <th>y1</th>\n",
       "      <th>z1</th>\n",
       "      <th>z_xy</th>\n",
       "      <th>z_yx</th>\n",
       "    </tr>\n",
       "  </thead>\n",
       "  <tbody>\n",
       "    <tr>\n",
       "      <td>0</td>\n",
       "      <td>-0.056995</td>\n",
       "      <td>-0.374173</td>\n",
       "      <td>0.025150</td>\n",
       "      <td>-0.359296</td>\n",
       "      <td>0.739393</td>\n",
       "      <td>0.101581</td>\n",
       "      <td>-0.036065</td>\n",
       "    </tr>\n",
       "    <tr>\n",
       "      <td>1</td>\n",
       "      <td>0.184774</td>\n",
       "      <td>-0.320722</td>\n",
       "      <td>-0.056995</td>\n",
       "      <td>-0.374173</td>\n",
       "      <td>0.710094</td>\n",
       "      <td>0.467681</td>\n",
       "      <td>0.132678</td>\n",
       "    </tr>\n",
       "    <tr>\n",
       "      <td>2</td>\n",
       "      <td>-0.507299</td>\n",
       "      <td>-0.276530</td>\n",
       "      <td>0.184774</td>\n",
       "      <td>-0.320722</td>\n",
       "      <td>0.664313</td>\n",
       "      <td>-0.150332</td>\n",
       "      <td>-0.926941</td>\n",
       "    </tr>\n",
       "    <tr>\n",
       "      <td>3</td>\n",
       "      <td>0.671643</td>\n",
       "      <td>-0.365379</td>\n",
       "      <td>-0.507299</td>\n",
       "      <td>-0.276530</td>\n",
       "      <td>0.605545</td>\n",
       "      <td>0.172267</td>\n",
       "      <td>-0.138430</td>\n",
       "    </tr>\n",
       "    <tr>\n",
       "      <td>4</td>\n",
       "      <td>-0.946800</td>\n",
       "      <td>-0.214115</td>\n",
       "      <td>0.671643</td>\n",
       "      <td>-0.365379</td>\n",
       "      <td>0.538290</td>\n",
       "      <td>-0.280297</td>\n",
       "      <td>0.622698</td>\n",
       "    </tr>\n",
       "  </tbody>\n",
       "</table>\n",
       "</div>"
      ],
      "text/plain": [
       "         xt        yt        x1        y1        z1      z_xy      z_yx\n",
       "0 -0.056995 -0.374173  0.025150 -0.359296  0.739393  0.101581 -0.036065\n",
       "1  0.184774 -0.320722 -0.056995 -0.374173  0.710094  0.467681  0.132678\n",
       "2 -0.507299 -0.276530  0.184774 -0.320722  0.664313 -0.150332 -0.926941\n",
       "3  0.671643 -0.365379 -0.507299 -0.276530  0.605545  0.172267 -0.138430\n",
       "4 -0.946800 -0.214115  0.671643 -0.365379  0.538290 -0.280297  0.622698"
      ]
     },
     "execution_count": 116,
     "metadata": {},
     "output_type": "execute_result"
    }
   ],
   "source": [
    "df = df.join(df2).join(df3)\n",
    "df.head()"
   ]
  },
  {
   "cell_type": "code",
   "execution_count": 117,
   "metadata": {},
   "outputs": [
    {
     "name": "stdout",
     "output_type": "stream",
     "text": [
      "/home/emiliano/Documents/ISP/proyectos/causality/causaLearner_R_pkg/causaLearner/data/timeSeries/latentNoise_xyz_est\n"
     ]
    }
   ],
   "source": [
    "cd \"/home/emiliano/Documents/ISP/proyectos/causality/causaLearner_R_pkg/causaLearner/data/timeSeries/latentNoise_xyz_est\" "
   ]
  },
  {
   "cell_type": "code",
   "execution_count": 118,
   "metadata": {},
   "outputs": [],
   "source": [
    "df.to_csv(r'\\ts_latentNoise_xyz_est_4', index = False)"
   ]
  },
  {
   "cell_type": "markdown",
   "metadata": {},
   "source": [
    "# Create a function to read, calculate z, and write"
   ]
  },
  {
   "cell_type": "markdown",
   "metadata": {},
   "source": [
    "First lets define a function to optimze z"
   ]
  },
  {
   "cell_type": "code",
   "execution_count": null,
   "metadata": {},
   "outputs": [],
   "source": [
    "import copy"
   ]
  },
  {
   "cell_type": "code",
   "execution_count": 133,
   "metadata": {},
   "outputs": [],
   "source": [
    "def optimize_z(monitors, params, K_x, y, epochs):\n",
    "    # loop through epochs\n",
    "    params_res = copy.deepcopy(params)\n",
    "    monitors_res = copy.deepcopy(monitors)\n",
    "    for i in range(epochs):\n",
    "        monitor = model(params_res, K_x, y)\n",
    "        monitors_res['hsic'].append(monitor['hsic'])\n",
    "        monitors_res['errs'].append(monitor['mse'])\n",
    "        monitors_res['lambda'].append(monitor['lambda'])\n",
    "        monitors_res['K_z_e'].append(monitor['K_z_e'])\n",
    "        monitors_res['K_e'].append(monitor['K_e'])\n",
    "        # get the gradient of the loss \n",
    "        grad_params = dloss(params_res, K_x, y)\n",
    "        # print(grad_params)\n",
    "\n",
    "        # update the parameters\n",
    "        # for name, value in grad_params.items():\n",
    "        #     params[name] = params[name] - learning_rate * jnp.mean(value, axis=0)\n",
    "        # Update weight params\n",
    "        # params['Z'] = params['Z'] - learning_rate * np.mean(grad_params['Z'], axis=0)\n",
    "        params_res['z'] = params_res['z'] - learning_rate * grad_params['z']\n",
    "        params_res['lambda'] = params_res['lambda'] - learning_rate * grad_params['lambda']\n",
    "        loss_val = loss(params_res, K_x, y)\n",
    "\n",
    "        monitors_res['loss'].append(loss_val)\n",
    "    \n",
    "    return monitors_res, params_res"
   ]
  },
  {
   "cell_type": "code",
   "execution_count": 134,
   "metadata": {},
   "outputs": [],
   "source": [
    "# stochastic gradient descent \n",
    "learning_rate = 0.1\n",
    "epochs = 250\n",
    "monitors = {\n",
    "    'loss': list(),\n",
    "    'hsic': list(),\n",
    "    'errs': list(),\n",
    "    'lambda': list(),\n",
    "    'K_z_e': list(),\n",
    "    'K_e': list()\n",
    "}\n",
    "\n",
    "\n",
    "rng_key = random.PRNGKey(10)\n",
    "\n",
    "# initialize parameters\n",
    "params = {\n",
    "    'z': np.array(0.5 * onp.random.randn(100,1)),\n",
    "    'lambda': np.array([0.01]),\n",
    "\n",
    "}\n",
    "\n",
    "params1 = {\n",
    "    'z': np.array(0.5 * onp.random.randn(100,1)),\n",
    "    'lambda': np.array([0.01]),\n",
    "\n",
    "}\n",
    "\n",
    "params2 = {\n",
    "    'z': np.array(0.5 * onp.random.randn(100,1)),\n",
    "    'lambda': np.array([0.01]),\n",
    "\n",
    "}\n"
   ]
  },
  {
   "cell_type": "code",
   "execution_count": 163,
   "metadata": {},
   "outputs": [],
   "source": [
    "xy1 = df[[\"x1\",\"y1\"]]\n",
    "x1 = df[[\"x1\"]]\n",
    "y1 = df[[\"y1\"]]\n",
    "y = df[[\"yt\"]]\n",
    "x = df[[\"xt\"]]\n",
    "xy1=xy1.to_numpy()\n",
    "x1=x1.to_numpy()\n",
    "y1=y1.to_numpy()\n",
    "x=x.to_numpy()\n",
    "y=y.to_numpy()\n",
    "distsX = covariance_matrix(sqeuclidean_distance, xy1, xy1)\n",
    "sigma = 1/np.median(distsX)\n",
    "K_xy = rbf_kernel_matrix({'gamma': sigma}, xy1,xy1)\n",
    "\n",
    "distsX = covariance_matrix(sqeuclidean_distance, x1, x1)\n",
    "sigma = 1/np.median(distsX)\n",
    "K_x = rbf_kernel_matrix({'gamma': sigma}, x1,x1)\n",
    "\n",
    "distsX = covariance_matrix(sqeuclidean_distance, y1, y1)\n",
    "sigma = 1/np.median(distsX)\n",
    "K_y = rbf_kernel_matrix({'gamma': sigma}, y1,y1)"
   ]
  },
  {
   "cell_type": "code",
   "execution_count": 164,
   "metadata": {},
   "outputs": [],
   "source": [
    "monitors_xy, params_xy = optimize_z(monitors, params, K_xy, y, epochs)\n",
    "monitors_yx, params_yx = optimize_z(monitors, params, K_xy, x, epochs)\n",
    "monitors_yy, params_yy = optimize_z(monitors, params, K_y, y, epochs)\n",
    "monitors_xx, params_xx = optimize_z(monitors, params, K_x, x, epochs)"
   ]
  },
  {
   "cell_type": "code",
   "execution_count": 165,
   "metadata": {},
   "outputs": [
    {
     "name": "stdout",
     "output_type": "stream",
     "text": [
      "<class 'dict'>\n",
      "<class 'dict'>\n"
     ]
    }
   ],
   "source": [
    "print(type(params))\n",
    "print(type(params_xy))"
   ]
  },
  {
   "cell_type": "code",
   "execution_count": 166,
   "metadata": {},
   "outputs": [
    {
     "name": "stdout",
     "output_type": "stream",
     "text": [
      "100\n",
      "100\n"
     ]
    }
   ],
   "source": [
    "print(len(params['z']))\n",
    "print(len(params_xy['z']))"
   ]
  },
  {
   "cell_type": "code",
   "execution_count": 167,
   "metadata": {},
   "outputs": [
    {
     "data": {
      "text/plain": [
       "<matplotlib.collections.PathCollection at 0x7fe4fc20aed0>"
      ]
     },
     "execution_count": 167,
     "metadata": {},
     "output_type": "execute_result"
    },
    {
     "data": {
      "image/png": "[encoded data removed]",
      "text/plain": [
       "<Figure size 432x288 with 1 Axes>"
      ]
     },
     "metadata": {
      "image/png": {
       "height": 255,
       "width": 389
      },
      "needs_background": "light"
     },
     "output_type": "display_data"
    }
   ],
   "source": [
    "plt.scatter(params['z'],params_xy['z'])"
   ]
  },
  {
   "cell_type": "code",
   "execution_count": 168,
   "metadata": {},
   "outputs": [
    {
     "data": {
      "text/plain": [
       "<matplotlib.collections.PathCollection at 0x7fe4dd39d710>"
      ]
     },
     "execution_count": 168,
     "metadata": {},
     "output_type": "execute_result"
    },
    {
     "data": {
      "image/png": "[encoded data removed]",
      "text/plain": [
       "<Figure size 432x288 with 1 Axes>"
      ]
     },
     "metadata": {
      "image/png": {
       "height": 255,
       "width": 389
      },
      "needs_background": "light"
     },
     "output_type": "display_data"
    }
   ],
   "source": [
    "plt.scatter(params_xy['z'],params_yx['z'])"
   ]
  },
  {
   "cell_type": "code",
   "execution_count": 169,
   "metadata": {},
   "outputs": [
    {
     "data": {
      "text/plain": [
       "[<matplotlib.lines.Line2D at 0x7fe4dd21d210>]"
      ]
     },
     "execution_count": 169,
     "metadata": {},
     "output_type": "execute_result"
    },
    {
     "data": {
      "image/png": "[encoded data removed]",
      "text/plain": [
       "<Figure size 432x288 with 1 Axes>"
      ]
     },
     "metadata": {
      "image/png": {
       "height": 255,
       "width": 389
      },
      "needs_background": "light"
     },
     "output_type": "display_data"
    }
   ],
   "source": [
    "plt.plot(monitors_xy['loss'])\n",
    "plt.plot(monitors_yx['loss'])"
   ]
  },
  {
   "cell_type": "code",
   "execution_count": 170,
   "metadata": {},
   "outputs": [
    {
     "data": {
      "text/plain": [
       "[<matplotlib.lines.Line2D at 0x7fe514111050>]"
      ]
     },
     "execution_count": 170,
     "metadata": {},
     "output_type": "execute_result"
    },
    {
     "data": {
      "image/png": "[encoded data removed]",
      "text/plain": [
       "<Figure size 432x288 with 1 Axes>"
      ]
     },
     "metadata": {
      "image/png": {
       "height": 255,
       "width": 387
      },
      "needs_background": "light"
     },
     "output_type": "display_data"
    }
   ],
   "source": [
    "plt.plot(monitors_xy['errs'])\n",
    "plt.plot(monitors_yx['errs'])"
   ]
  },
  {
   "cell_type": "code",
   "execution_count": 171,
   "metadata": {},
   "outputs": [
    {
     "data": {
      "text/plain": [
       "[<matplotlib.lines.Line2D at 0x7fe4dd1b8590>]"
      ]
     },
     "execution_count": 171,
     "metadata": {},
     "output_type": "execute_result"
    },
    {
     "data": {
      "image/png": "[encoded data removed]",
      "text/plain": [
       "<Figure size 432x288 with 1 Axes>"
      ]
     },
     "metadata": {
      "image/png": {
       "height": 255,
       "width": 387
      },
      "needs_background": "light"
     },
     "output_type": "display_data"
    }
   ],
   "source": [
    "plt.plot(monitors_yy['errs'])\n",
    "plt.plot(monitors_xx['errs'])"
   ]
  },
  {
   "cell_type": "code",
   "execution_count": 173,
   "metadata": {},
   "outputs": [
    {
     "data": {
      "text/plain": [
       "list"
      ]
     },
     "execution_count": 173,
     "metadata": {},
     "output_type": "execute_result"
    }
   ],
   "source": [
    "type(monitors_xy['errs'])"
   ]
  },
  {
   "cell_type": "code",
   "execution_count": 177,
   "metadata": {},
   "outputs": [
    {
     "data": {
      "text/plain": [
       "250"
      ]
     },
     "execution_count": 177,
     "metadata": {},
     "output_type": "execute_result"
    }
   ],
   "source": [
    "(np.array(monitors_xy['errs'])+np.array(monitors_xx['errs'])).size"
   ]
  },
  {
   "cell_type": "code",
   "execution_count": 179,
   "metadata": {},
   "outputs": [
    {
     "data": {
      "text/plain": [
       "[<matplotlib.lines.Line2D at 0x7fe4dcec7110>]"
      ]
     },
     "execution_count": 179,
     "metadata": {},
     "output_type": "execute_result"
    },
    {
     "data": {
      "image/png": "[encoded data removed]",
      "text/plain": [
       "<Figure size 432x288 with 1 Axes>"
      ]
     },
     "metadata": {
      "image/png": {
       "height": 255,
       "width": 387
      },
      "needs_background": "light"
     },
     "output_type": "display_data"
    }
   ],
   "source": [
    "plt.plot(np.array(monitors_xy['errs'])+np.array(monitors_xx['errs']))\n",
    "plt.plot(np.array(monitors_yx['errs'])+np.array(monitors_yy['errs']))\n"
   ]
  },
  {
   "cell_type": "code",
   "execution_count": 180,
   "metadata": {},
   "outputs": [
    {
     "data": {
      "text/plain": [
       "250"
      ]
     },
     "execution_count": 180,
     "metadata": {},
     "output_type": "execute_result"
    }
   ],
   "source": [
    "(np.array(monitors_xy['errs'])+np.array(monitors_xx['errs'])).size"
   ]
  },
  {
   "cell_type": "code",
   "execution_count": 190,
   "metadata": {},
   "outputs": [
    {
     "name": "stdout",
     "output_type": "stream",
     "text": [
      "0.016154196\n",
      "0.01697868\n"
     ]
    }
   ],
   "source": [
    "print((np.array(monitors_xy['errs'])+np.array(monitors_xx['errs']))[249])\n",
    "print((np.array(monitors_yx['errs'])+np.array(monitors_yy['errs']))[249])"
   ]
  },
  {
   "cell_type": "code",
   "execution_count": 196,
   "metadata": {},
   "outputs": [
    {
     "name": "stdout",
     "output_type": "stream",
     "text": [
      "True\n"
     ]
    }
   ],
   "source": [
    "print((np.array(monitors_xy['errs'])+np.array(monitors_xx['errs']))[249]<(np.array(monitors_yx['errs'])+np.array(monitors_yy['errs']))[249])"
   ]
  },
  {
   "cell_type": "markdown",
   "metadata": {},
   "source": [
    "Now we can loop through 100 data sets, read, optimize and write"
   ]
  },
  {
   "cell_type": "code",
   "execution_count": 154,
   "metadata": {},
   "outputs": [],
   "source": [
    "reposRead = \"/home/emiliano/Documents/ISP/proyectos/causality/causaLearner_R_pkg/causaLearner/data/timeSeries/latentNoise_xyz\"\n",
    "reposWrite = \"/home/emiliano/Documents/ISP/proyectos/causality/causaLearner_R_pkg/causaLearner/data/timeSeries/latentNoise_xyz_est\""
   ]
  },
  {
   "cell_type": "code",
   "execution_count": 197,
   "metadata": {},
   "outputs": [],
   "source": [
    "import os\n",
    "hit = list()"
   ]
  },
  {
   "cell_type": "code",
   "execution_count": 199,
   "metadata": {},
   "outputs": [
    {
     "name": "stderr",
     "output_type": "stream",
     "text": [
      "  1%|          | 1/100 [02:24<3:58:29, 144.54s/it]"
     ]
    },
    {
     "name": "stdout",
     "output_type": "stream",
     "text": [
      "hit 0 :  False\n"
     ]
    },
    {
     "name": "stderr",
     "output_type": "stream",
     "text": [
      "\r",
      "  2%|▏         | 2/100 [04:52<3:57:50, 145.62s/it]"
     ]
    },
    {
     "name": "stdout",
     "output_type": "stream",
     "text": [
      "hit 1 :  True\n"
     ]
    },
    {
     "name": "stderr",
     "output_type": "stream",
     "text": [
      "\r",
      "  3%|▎         | 3/100 [07:14<3:53:21, 144.35s/it]"
     ]
    },
    {
     "name": "stdout",
     "output_type": "stream",
     "text": [
      "hit 2 :  True\n"
     ]
    },
    {
     "name": "stderr",
     "output_type": "stream",
     "text": [
      "\r",
      "  4%|▍         | 4/100 [09:33<3:48:28, 142.79s/it]"
     ]
    },
    {
     "name": "stdout",
     "output_type": "stream",
     "text": [
      "hit 3 :  False\n"
     ]
    },
    {
     "name": "stderr",
     "output_type": "stream",
     "text": [
      "\r",
      "  5%|▌         | 5/100 [11:44<3:40:24, 139.20s/it]"
     ]
    },
    {
     "name": "stdout",
     "output_type": "stream",
     "text": [
      "hit 4 :  False\n"
     ]
    },
    {
     "name": "stderr",
     "output_type": "stream",
     "text": [
      "\r",
      "  6%|▌         | 6/100 [13:58<3:35:48, 137.75s/it]"
     ]
    },
    {
     "name": "stdout",
     "output_type": "stream",
     "text": [
      "hit 5 :  False\n"
     ]
    },
    {
     "name": "stderr",
     "output_type": "stream",
     "text": [
      "\r",
      "  7%|▋         | 7/100 [16:15<3:33:22, 137.66s/it]"
     ]
    },
    {
     "name": "stdout",
     "output_type": "stream",
     "text": [
      "hit 6 :  False\n"
     ]
    },
    {
     "name": "stderr",
     "output_type": "stream",
     "text": [
      "\r",
      "  8%|▊         | 8/100 [18:23<3:26:39, 134.78s/it]"
     ]
    },
    {
     "name": "stdout",
     "output_type": "stream",
     "text": [
      "hit 7 :  True\n"
     ]
    },
    {
     "name": "stderr",
     "output_type": "stream",
     "text": [
      "\r",
      "  9%|▉         | 9/100 [20:20<3:16:11, 129.36s/it]"
     ]
    },
    {
     "name": "stdout",
     "output_type": "stream",
     "text": [
      "hit 8 :  False\n"
     ]
    },
    {
     "name": "stderr",
     "output_type": "stream",
     "text": [
      "\r",
      " 10%|█         | 10/100 [22:17<3:08:14, 125.49s/it]"
     ]
    },
    {
     "name": "stdout",
     "output_type": "stream",
     "text": [
      "hit 9 :  True\n"
     ]
    },
    {
     "name": "stderr",
     "output_type": "stream",
     "text": [
      "\r",
      " 11%|█         | 11/100 [24:13<3:02:19, 122.91s/it]"
     ]
    },
    {
     "name": "stdout",
     "output_type": "stream",
     "text": [
      "hit 10 :  True\n"
     ]
    },
    {
     "name": "stderr",
     "output_type": "stream",
     "text": [
      "\r",
      " 12%|█▏        | 12/100 [26:09<2:56:48, 120.55s/it]"
     ]
    },
    {
     "name": "stdout",
     "output_type": "stream",
     "text": [
      "hit 11 :  True\n"
     ]
    },
    {
     "name": "stderr",
     "output_type": "stream",
     "text": [
      "\r",
      " 13%|█▎        | 13/100 [28:03<2:52:12, 118.76s/it]"
     ]
    },
    {
     "name": "stdout",
     "output_type": "stream",
     "text": [
      "hit 12 :  True\n"
     ]
    },
    {
     "name": "stderr",
     "output_type": "stream",
     "text": [
      "\r",
      " 14%|█▍        | 14/100 [29:58<2:48:34, 117.62s/it]"
     ]
    },
    {
     "name": "stdout",
     "output_type": "stream",
     "text": [
      "hit 13 :  False\n"
     ]
    },
    {
     "name": "stderr",
     "output_type": "stream",
     "text": [
      "\r",
      " 15%|█▌        | 15/100 [31:53<2:45:28, 116.80s/it]"
     ]
    },
    {
     "name": "stdout",
     "output_type": "stream",
     "text": [
      "hit 14 :  False\n"
     ]
    },
    {
     "name": "stderr",
     "output_type": "stream",
     "text": [
      "\r",
      " 16%|█▌        | 16/100 [33:47<2:42:33, 116.12s/it]"
     ]
    },
    {
     "name": "stdout",
     "output_type": "stream",
     "text": [
      "hit 15 :  False\n"
     ]
    },
    {
     "name": "stderr",
     "output_type": "stream",
     "text": [
      "\r",
      " 17%|█▋        | 17/100 [35:43<2:40:14, 115.84s/it]"
     ]
    },
    {
     "name": "stdout",
     "output_type": "stream",
     "text": [
      "hit 16 :  True\n"
     ]
    },
    {
     "name": "stderr",
     "output_type": "stream",
     "text": [
      "\r",
      " 18%|█▊        | 18/100 [37:57<2:45:56, 121.42s/it]"
     ]
    },
    {
     "name": "stdout",
     "output_type": "stream",
     "text": [
      "hit 17 :  True\n"
     ]
    },
    {
     "name": "stderr",
     "output_type": "stream",
     "text": [
      "\r",
      " 19%|█▉        | 19/100 [40:06<2:47:04, 123.76s/it]"
     ]
    },
    {
     "name": "stdout",
     "output_type": "stream",
     "text": [
      "hit 18 :  False\n"
     ]
    },
    {
     "name": "stderr",
     "output_type": "stream",
     "text": [
      "\r",
      " 20%|██        | 20/100 [42:12<2:45:53, 124.42s/it]"
     ]
    },
    {
     "name": "stdout",
     "output_type": "stream",
     "text": [
      "hit 19 :  True\n"
     ]
    },
    {
     "name": "stderr",
     "output_type": "stream",
     "text": [
      "\r",
      " 21%|██        | 21/100 [44:21<2:45:38, 125.80s/it]"
     ]
    },
    {
     "name": "stdout",
     "output_type": "stream",
     "text": [
      "hit 20 :  True\n"
     ]
    },
    {
     "name": "stderr",
     "output_type": "stream",
     "text": [
      "\r",
      " 22%|██▏       | 22/100 [46:36<2:46:58, 128.44s/it]"
     ]
    },
    {
     "name": "stdout",
     "output_type": "stream",
     "text": [
      "hit 21 :  True\n"
     ]
    },
    {
     "name": "stderr",
     "output_type": "stream",
     "text": [
      "\r",
      " 23%|██▎       | 23/100 [48:43<2:44:28, 128.16s/it]"
     ]
    },
    {
     "name": "stdout",
     "output_type": "stream",
     "text": [
      "hit 22 :  True\n"
     ]
    },
    {
     "name": "stderr",
     "output_type": "stream",
     "text": [
      "\r",
      " 24%|██▍       | 24/100 [50:54<2:43:05, 128.75s/it]"
     ]
    },
    {
     "name": "stdout",
     "output_type": "stream",
     "text": [
      "hit 23 :  True\n"
     ]
    },
    {
     "name": "stderr",
     "output_type": "stream",
     "text": [
      "\r",
      " 25%|██▌       | 25/100 [53:08<2:43:04, 130.46s/it]"
     ]
    },
    {
     "name": "stdout",
     "output_type": "stream",
     "text": [
      "hit 24 :  True\n"
     ]
    },
    {
     "name": "stderr",
     "output_type": "stream",
     "text": [
      "\r",
      " 26%|██▌       | 26/100 [55:12<2:38:32, 128.55s/it]"
     ]
    },
    {
     "name": "stdout",
     "output_type": "stream",
     "text": [
      "hit 25 :  False\n"
     ]
    },
    {
     "name": "stderr",
     "output_type": "stream",
     "text": [
      "\r",
      " 27%|██▋       | 27/100 [57:25<2:37:57, 129.82s/it]"
     ]
    },
    {
     "name": "stdout",
     "output_type": "stream",
     "text": [
      "hit 26 :  True\n"
     ]
    },
    {
     "name": "stderr",
     "output_type": "stream",
     "text": [
      "\r",
      " 28%|██▊       | 28/100 [59:26<2:32:33, 127.13s/it]"
     ]
    },
    {
     "name": "stdout",
     "output_type": "stream",
     "text": [
      "hit 27 :  True\n"
     ]
    },
    {
     "name": "stderr",
     "output_type": "stream",
     "text": [
      "\r",
      " 29%|██▉       | 29/100 [1:01:22<2:26:33, 123.85s/it]"
     ]
    },
    {
     "name": "stdout",
     "output_type": "stream",
     "text": [
      "hit 28 :  True\n"
     ]
    },
    {
     "name": "stderr",
     "output_type": "stream",
     "text": [
      "\r",
      " 30%|███       | 30/100 [1:03:19<2:22:15, 121.94s/it]"
     ]
    },
    {
     "name": "stdout",
     "output_type": "stream",
     "text": [
      "hit 29 :  False\n"
     ]
    },
    {
     "name": "stderr",
     "output_type": "stream",
     "text": [
      "\r",
      " 31%|███       | 31/100 [1:05:14<2:17:34, 119.63s/it]"
     ]
    },
    {
     "name": "stdout",
     "output_type": "stream",
     "text": [
      "hit 30 :  True\n"
     ]
    },
    {
     "name": "stderr",
     "output_type": "stream",
     "text": [
      "\r",
      " 32%|███▏      | 32/100 [1:07:09<2:13:58, 118.22s/it]"
     ]
    },
    {
     "name": "stdout",
     "output_type": "stream",
     "text": [
      "hit 31 :  True\n"
     ]
    },
    {
     "name": "stderr",
     "output_type": "stream",
     "text": [
      "\r",
      " 33%|███▎      | 33/100 [1:09:04<2:10:54, 117.24s/it]"
     ]
    },
    {
     "name": "stdout",
     "output_type": "stream",
     "text": [
      "hit 32 :  False\n"
     ]
    },
    {
     "name": "stderr",
     "output_type": "stream",
     "text": [
      "\r",
      " 34%|███▍      | 34/100 [1:11:00<2:08:41, 116.99s/it]"
     ]
    },
    {
     "name": "stdout",
     "output_type": "stream",
     "text": [
      "hit 33 :  False\n"
     ]
    },
    {
     "name": "stderr",
     "output_type": "stream",
     "text": [
      "\r",
      " 35%|███▌      | 35/100 [1:13:02<2:08:32, 118.65s/it]"
     ]
    },
    {
     "name": "stdout",
     "output_type": "stream",
     "text": [
      "hit 34 :  False\n"
     ]
    },
    {
     "name": "stderr",
     "output_type": "stream",
     "text": [
      "\r",
      " 36%|███▌      | 36/100 [1:15:28<2:15:13, 126.78s/it]"
     ]
    },
    {
     "name": "stdout",
     "output_type": "stream",
     "text": [
      "hit 35 :  True\n"
     ]
    },
    {
     "name": "stderr",
     "output_type": "stream",
     "text": [
      "\r",
      " 37%|███▋      | 37/100 [1:17:44<2:15:48, 129.34s/it]"
     ]
    },
    {
     "name": "stdout",
     "output_type": "stream",
     "text": [
      "hit 36 :  False\n"
     ]
    },
    {
     "name": "stderr",
     "output_type": "stream",
     "text": [
      "\r",
      " 38%|███▊      | 38/100 [1:19:51<2:12:58, 128.68s/it]"
     ]
    },
    {
     "name": "stdout",
     "output_type": "stream",
     "text": [
      "hit 37 :  True\n"
     ]
    },
    {
     "name": "stderr",
     "output_type": "stream",
     "text": [
      "\r",
      " 39%|███▉      | 39/100 [1:22:00<2:11:00, 128.86s/it]"
     ]
    },
    {
     "name": "stdout",
     "output_type": "stream",
     "text": [
      "hit 38 :  False\n"
     ]
    },
    {
     "name": "stderr",
     "output_type": "stream",
     "text": [
      "\r",
      " 40%|████      | 40/100 [1:24:12<2:09:57, 129.95s/it]"
     ]
    },
    {
     "name": "stdout",
     "output_type": "stream",
     "text": [
      "hit 39 :  True\n"
     ]
    },
    {
     "name": "stderr",
     "output_type": "stream",
     "text": [
      "\r",
      " 41%|████      | 41/100 [1:26:16<2:05:46, 127.90s/it]"
     ]
    },
    {
     "name": "stdout",
     "output_type": "stream",
     "text": [
      "hit 40 :  True\n"
     ]
    },
    {
     "name": "stderr",
     "output_type": "stream",
     "text": [
      "\r",
      " 42%|████▏     | 42/100 [1:28:15<2:01:10, 125.35s/it]"
     ]
    },
    {
     "name": "stdout",
     "output_type": "stream",
     "text": [
      "hit 41 :  True\n"
     ]
    },
    {
     "name": "stderr",
     "output_type": "stream",
     "text": [
      "\r",
      " 43%|████▎     | 43/100 [1:30:14<1:57:15, 123.43s/it]"
     ]
    },
    {
     "name": "stdout",
     "output_type": "stream",
     "text": [
      "hit 42 :  False\n"
     ]
    },
    {
     "name": "stderr",
     "output_type": "stream",
     "text": [
      "\r",
      " 44%|████▍     | 44/100 [1:32:31<1:58:57, 127.46s/it]"
     ]
    },
    {
     "name": "stdout",
     "output_type": "stream",
     "text": [
      "hit 43 :  True\n"
     ]
    },
    {
     "name": "stderr",
     "output_type": "stream",
     "text": [
      "\r",
      " 45%|████▌     | 45/100 [1:34:44<1:58:19, 129.08s/it]"
     ]
    },
    {
     "name": "stdout",
     "output_type": "stream",
     "text": [
      "hit 44 :  True\n"
     ]
    },
    {
     "name": "stderr",
     "output_type": "stream",
     "text": [
      "\r",
      " 46%|████▌     | 46/100 [1:36:54<1:56:28, 129.41s/it]"
     ]
    },
    {
     "name": "stdout",
     "output_type": "stream",
     "text": [
      "hit 45 :  False\n"
     ]
    },
    {
     "name": "stderr",
     "output_type": "stream",
     "text": [
      "\r",
      " 47%|████▋     | 47/100 [1:39:02<1:53:53, 128.93s/it]"
     ]
    },
    {
     "name": "stdout",
     "output_type": "stream",
     "text": [
      "hit 46 :  True\n"
     ]
    },
    {
     "name": "stderr",
     "output_type": "stream",
     "text": [
      "\r",
      " 48%|████▊     | 48/100 [1:41:16<1:53:09, 130.56s/it]"
     ]
    },
    {
     "name": "stdout",
     "output_type": "stream",
     "text": [
      "hit 47 :  True\n"
     ]
    },
    {
     "name": "stderr",
     "output_type": "stream",
     "text": [
      "\r",
      " 49%|████▉     | 49/100 [1:43:31<1:52:03, 131.82s/it]"
     ]
    },
    {
     "name": "stdout",
     "output_type": "stream",
     "text": [
      "hit 48 :  False\n"
     ]
    },
    {
     "name": "stderr",
     "output_type": "stream",
     "text": [
      "\r",
      " 50%|█████     | 50/100 [1:45:46<1:50:38, 132.77s/it]"
     ]
    },
    {
     "name": "stdout",
     "output_type": "stream",
     "text": [
      "hit 49 :  False\n"
     ]
    },
    {
     "name": "stderr",
     "output_type": "stream",
     "text": [
      "\r",
      " 51%|█████     | 51/100 [1:47:56<1:47:53, 132.12s/it]"
     ]
    },
    {
     "name": "stdout",
     "output_type": "stream",
     "text": [
      "hit 50 :  True\n"
     ]
    },
    {
     "name": "stderr",
     "output_type": "stream",
     "text": [
      "\r",
      " 52%|█████▏    | 52/100 [1:50:11<1:46:25, 133.02s/it]"
     ]
    },
    {
     "name": "stdout",
     "output_type": "stream",
     "text": [
      "hit 51 :  True\n"
     ]
    },
    {
     "name": "stderr",
     "output_type": "stream",
     "text": [
      "\r",
      " 53%|█████▎    | 53/100 [1:52:27<1:44:48, 133.80s/it]"
     ]
    },
    {
     "name": "stdout",
     "output_type": "stream",
     "text": [
      "hit 52 :  False\n"
     ]
    },
    {
     "name": "stderr",
     "output_type": "stream",
     "text": [
      "\r",
      " 54%|█████▍    | 54/100 [1:54:43<1:43:04, 134.45s/it]"
     ]
    },
    {
     "name": "stdout",
     "output_type": "stream",
     "text": [
      "hit 53 :  True\n"
     ]
    },
    {
     "name": "stderr",
     "output_type": "stream",
     "text": [
      "\r",
      " 55%|█████▌    | 55/100 [1:57:07<1:43:04, 137.44s/it]"
     ]
    },
    {
     "name": "stdout",
     "output_type": "stream",
     "text": [
      "hit 54 :  False\n"
     ]
    },
    {
     "name": "stderr",
     "output_type": "stream",
     "text": [
      "\r",
      " 56%|█████▌    | 56/100 [1:59:26<1:40:58, 137.70s/it]"
     ]
    },
    {
     "name": "stdout",
     "output_type": "stream",
     "text": [
      "hit 55 :  True\n"
     ]
    },
    {
     "name": "stderr",
     "output_type": "stream",
     "text": [
      "\r",
      " 57%|█████▋    | 57/100 [2:01:46<1:39:16, 138.53s/it]"
     ]
    },
    {
     "name": "stdout",
     "output_type": "stream",
     "text": [
      "hit 56 :  True\n"
     ]
    },
    {
     "name": "stderr",
     "output_type": "stream",
     "text": [
      "\r",
      " 58%|█████▊    | 58/100 [2:03:45<1:32:49, 132.60s/it]"
     ]
    },
    {
     "name": "stdout",
     "output_type": "stream",
     "text": [
      "hit 57 :  True\n"
     ]
    },
    {
     "name": "stderr",
     "output_type": "stream",
     "text": [
      "\r",
      " 59%|█████▉    | 59/100 [2:05:55<1:29:59, 131.70s/it]"
     ]
    },
    {
     "name": "stdout",
     "output_type": "stream",
     "text": [
      "hit 58 :  False\n"
     ]
    },
    {
     "name": "stderr",
     "output_type": "stream",
     "text": [
      "\r",
      " 60%|██████    | 60/100 [2:08:13<1:29:12, 133.81s/it]"
     ]
    },
    {
     "name": "stdout",
     "output_type": "stream",
     "text": [
      "hit 59 :  True\n"
     ]
    },
    {
     "name": "stderr",
     "output_type": "stream",
     "text": [
      "\r",
      " 61%|██████    | 61/100 [2:10:29<1:27:15, 134.24s/it]"
     ]
    },
    {
     "name": "stdout",
     "output_type": "stream",
     "text": [
      "hit 60 :  False\n"
     ]
    },
    {
     "name": "stderr",
     "output_type": "stream",
     "text": [
      "\r",
      " 62%|██████▏   | 62/100 [2:12:40<1:24:31, 133.47s/it]"
     ]
    },
    {
     "name": "stdout",
     "output_type": "stream",
     "text": [
      "hit 61 :  True\n"
     ]
    },
    {
     "name": "stderr",
     "output_type": "stream",
     "text": [
      "\r",
      " 63%|██████▎   | 63/100 [2:14:53<1:22:12, 133.32s/it]"
     ]
    },
    {
     "name": "stdout",
     "output_type": "stream",
     "text": [
      "hit 62 :  True\n"
     ]
    },
    {
     "name": "stderr",
     "output_type": "stream",
     "text": [
      "\r",
      " 64%|██████▍   | 64/100 [2:16:56<1:18:03, 130.09s/it]"
     ]
    },
    {
     "name": "stdout",
     "output_type": "stream",
     "text": [
      "hit 63 :  True\n"
     ]
    },
    {
     "name": "stderr",
     "output_type": "stream",
     "text": [
      "\r",
      " 65%|██████▌   | 65/100 [2:18:55<1:14:01, 126.90s/it]"
     ]
    },
    {
     "name": "stdout",
     "output_type": "stream",
     "text": [
      "hit 64 :  True\n"
     ]
    },
    {
     "name": "stderr",
     "output_type": "stream",
     "text": [
      "\r",
      " 66%|██████▌   | 66/100 [2:20:55<1:10:40, 124.71s/it]"
     ]
    },
    {
     "name": "stdout",
     "output_type": "stream",
     "text": [
      "hit 65 :  True\n"
     ]
    },
    {
     "name": "stderr",
     "output_type": "stream",
     "text": [
      "\r",
      " 67%|██████▋   | 67/100 [2:22:54<1:07:42, 123.09s/it]"
     ]
    },
    {
     "name": "stdout",
     "output_type": "stream",
     "text": [
      "hit 66 :  True\n"
     ]
    },
    {
     "name": "stderr",
     "output_type": "stream",
     "text": [
      "\r",
      " 68%|██████▊   | 68/100 [2:24:49<1:04:22, 120.71s/it]"
     ]
    },
    {
     "name": "stdout",
     "output_type": "stream",
     "text": [
      "hit 67 :  True\n"
     ]
    },
    {
     "name": "stderr",
     "output_type": "stream",
     "text": [
      "\r",
      " 69%|██████▉   | 69/100 [2:26:44<1:01:30, 119.05s/it]"
     ]
    },
    {
     "name": "stdout",
     "output_type": "stream",
     "text": [
      "hit 68 :  True\n"
     ]
    },
    {
     "name": "stderr",
     "output_type": "stream",
     "text": [
      "\r",
      " 70%|███████   | 70/100 [2:28:40<58:56, 117.87s/it]  "
     ]
    },
    {
     "name": "stdout",
     "output_type": "stream",
     "text": [
      "hit 69 :  False\n"
     ]
    },
    {
     "name": "stderr",
     "output_type": "stream",
     "text": [
      "\r",
      " 71%|███████   | 71/100 [2:30:35<56:35, 117.08s/it]"
     ]
    },
    {
     "name": "stdout",
     "output_type": "stream",
     "text": [
      "hit 70 :  False\n"
     ]
    },
    {
     "name": "stderr",
     "output_type": "stream",
     "text": [
      "\r",
      " 72%|███████▏  | 72/100 [2:32:30<54:24, 116.58s/it]"
     ]
    },
    {
     "name": "stdout",
     "output_type": "stream",
     "text": [
      "hit 71 :  True\n"
     ]
    },
    {
     "name": "stderr",
     "output_type": "stream",
     "text": [
      "\r",
      " 73%|███████▎  | 73/100 [2:34:26<52:18, 116.23s/it]"
     ]
    },
    {
     "name": "stdout",
     "output_type": "stream",
     "text": [
      "hit 72 :  False\n"
     ]
    },
    {
     "name": "stderr",
     "output_type": "stream",
     "text": [
      "\r",
      " 74%|███████▍  | 74/100 [2:36:21<50:13, 115.90s/it]"
     ]
    },
    {
     "name": "stdout",
     "output_type": "stream",
     "text": [
      "hit 73 :  True\n"
     ]
    },
    {
     "name": "stderr",
     "output_type": "stream",
     "text": [
      "\r",
      " 75%|███████▌  | 75/100 [2:38:16<48:12, 115.69s/it]"
     ]
    },
    {
     "name": "stdout",
     "output_type": "stream",
     "text": [
      "hit 74 :  True\n"
     ]
    },
    {
     "name": "stderr",
     "output_type": "stream",
     "text": [
      "\r",
      " 76%|███████▌  | 76/100 [2:40:11<46:11, 115.48s/it]"
     ]
    },
    {
     "name": "stdout",
     "output_type": "stream",
     "text": [
      "hit 75 :  False\n"
     ]
    },
    {
     "name": "stderr",
     "output_type": "stream",
     "text": [
      "\r",
      " 77%|███████▋  | 77/100 [2:42:06<44:13, 115.36s/it]"
     ]
    },
    {
     "name": "stdout",
     "output_type": "stream",
     "text": [
      "hit 76 :  False\n"
     ]
    },
    {
     "name": "stderr",
     "output_type": "stream",
     "text": [
      "\r",
      " 78%|███████▊  | 78/100 [2:44:01<42:17, 115.32s/it]"
     ]
    },
    {
     "name": "stdout",
     "output_type": "stream",
     "text": [
      "hit 77 :  True\n"
     ]
    },
    {
     "name": "stderr",
     "output_type": "stream",
     "text": [
      "\r",
      " 79%|███████▉  | 79/100 [2:45:57<40:21, 115.32s/it]"
     ]
    },
    {
     "name": "stdout",
     "output_type": "stream",
     "text": [
      "hit 78 :  False\n"
     ]
    },
    {
     "name": "stderr",
     "output_type": "stream",
     "text": [
      "\r",
      " 80%|████████  | 80/100 [2:47:52<38:27, 115.36s/it]"
     ]
    },
    {
     "name": "stdout",
     "output_type": "stream",
     "text": [
      "hit 79 :  True\n"
     ]
    },
    {
     "name": "stderr",
     "output_type": "stream",
     "text": [
      "\r",
      " 81%|████████  | 81/100 [2:49:47<36:29, 115.25s/it]"
     ]
    },
    {
     "name": "stdout",
     "output_type": "stream",
     "text": [
      "hit 80 :  False\n"
     ]
    },
    {
     "name": "stderr",
     "output_type": "stream",
     "text": [
      "\r",
      " 82%|████████▏ | 82/100 [2:51:42<34:33, 115.19s/it]"
     ]
    },
    {
     "name": "stdout",
     "output_type": "stream",
     "text": [
      "hit 81 :  True\n"
     ]
    },
    {
     "name": "stderr",
     "output_type": "stream",
     "text": [
      "\r",
      " 83%|████████▎ | 83/100 [2:53:37<32:38, 115.23s/it]"
     ]
    },
    {
     "name": "stdout",
     "output_type": "stream",
     "text": [
      "hit 82 :  False\n"
     ]
    },
    {
     "name": "stderr",
     "output_type": "stream",
     "text": [
      "\r",
      " 84%|████████▍ | 84/100 [2:55:33<30:42, 115.19s/it]"
     ]
    },
    {
     "name": "stdout",
     "output_type": "stream",
     "text": [
      "hit 83 :  False\n"
     ]
    },
    {
     "name": "stderr",
     "output_type": "stream",
     "text": [
      "\r",
      " 85%|████████▌ | 85/100 [2:57:28<28:48, 115.21s/it]"
     ]
    },
    {
     "name": "stdout",
     "output_type": "stream",
     "text": [
      "hit 84 :  True\n"
     ]
    },
    {
     "name": "stderr",
     "output_type": "stream",
     "text": [
      "\r",
      " 86%|████████▌ | 86/100 [2:59:23<26:52, 115.21s/it]"
     ]
    },
    {
     "name": "stdout",
     "output_type": "stream",
     "text": [
      "hit 85 :  False\n"
     ]
    },
    {
     "name": "stderr",
     "output_type": "stream",
     "text": [
      "\r",
      " 87%|████████▋ | 87/100 [3:01:18<24:57, 115.17s/it]"
     ]
    },
    {
     "name": "stdout",
     "output_type": "stream",
     "text": [
      "hit 86 :  True\n"
     ]
    },
    {
     "name": "stderr",
     "output_type": "stream",
     "text": [
      "\r",
      " 88%|████████▊ | 88/100 [3:03:13<23:01, 115.16s/it]"
     ]
    },
    {
     "name": "stdout",
     "output_type": "stream",
     "text": [
      "hit 87 :  True\n"
     ]
    },
    {
     "name": "stderr",
     "output_type": "stream",
     "text": [
      "\r",
      " 89%|████████▉ | 89/100 [3:05:08<21:06, 115.12s/it]"
     ]
    },
    {
     "name": "stdout",
     "output_type": "stream",
     "text": [
      "hit 88 :  False\n"
     ]
    },
    {
     "name": "stderr",
     "output_type": "stream",
     "text": [
      "\r",
      " 90%|█████████ | 90/100 [3:07:03<19:11, 115.15s/it]"
     ]
    },
    {
     "name": "stdout",
     "output_type": "stream",
     "text": [
      "hit 89 :  True\n"
     ]
    },
    {
     "name": "stderr",
     "output_type": "stream",
     "text": [
      "\r",
      " 91%|█████████ | 91/100 [3:08:59<17:16, 115.19s/it]"
     ]
    },
    {
     "name": "stdout",
     "output_type": "stream",
     "text": [
      "hit 90 :  False\n"
     ]
    },
    {
     "name": "stderr",
     "output_type": "stream",
     "text": [
      "\r",
      " 92%|█████████▏| 92/100 [3:10:54<15:21, 115.24s/it]"
     ]
    },
    {
     "name": "stdout",
     "output_type": "stream",
     "text": [
      "hit 91 :  False\n"
     ]
    },
    {
     "name": "stderr",
     "output_type": "stream",
     "text": [
      "\r",
      " 93%|█████████▎| 93/100 [3:12:49<13:26, 115.28s/it]"
     ]
    },
    {
     "name": "stdout",
     "output_type": "stream",
     "text": [
      "hit 92 :  True\n"
     ]
    },
    {
     "name": "stderr",
     "output_type": "stream",
     "text": [
      "\r",
      " 94%|█████████▍| 94/100 [3:14:45<11:31, 115.26s/it]"
     ]
    },
    {
     "name": "stdout",
     "output_type": "stream",
     "text": [
      "hit 93 :  True\n"
     ]
    },
    {
     "name": "stderr",
     "output_type": "stream",
     "text": [
      "\r",
      " 95%|█████████▌| 95/100 [3:16:39<09:35, 115.12s/it]"
     ]
    },
    {
     "name": "stdout",
     "output_type": "stream",
     "text": [
      "hit 94 :  False\n"
     ]
    },
    {
     "name": "stderr",
     "output_type": "stream",
     "text": [
      "\r",
      " 96%|█████████▌| 96/100 [3:18:35<07:40, 115.15s/it]"
     ]
    },
    {
     "name": "stdout",
     "output_type": "stream",
     "text": [
      "hit 95 :  True\n"
     ]
    },
    {
     "name": "stderr",
     "output_type": "stream",
     "text": [
      "\r",
      " 97%|█████████▋| 97/100 [3:20:30<05:45, 115.16s/it]"
     ]
    },
    {
     "name": "stdout",
     "output_type": "stream",
     "text": [
      "hit 96 :  False\n"
     ]
    },
    {
     "name": "stderr",
     "output_type": "stream",
     "text": [
      "\r",
      " 98%|█████████▊| 98/100 [3:22:25<03:50, 115.14s/it]"
     ]
    },
    {
     "name": "stdout",
     "output_type": "stream",
     "text": [
      "hit 97 :  False\n"
     ]
    },
    {
     "name": "stderr",
     "output_type": "stream",
     "text": [
      "\r",
      " 99%|█████████▉| 99/100 [3:24:20<01:55, 115.07s/it]"
     ]
    },
    {
     "name": "stdout",
     "output_type": "stream",
     "text": [
      "hit 98 :  False\n"
     ]
    },
    {
     "name": "stderr",
     "output_type": "stream",
     "text": [
      "100%|██████████| 100/100 [3:26:15<00:00, 123.75s/it]"
     ]
    },
    {
     "name": "stdout",
     "output_type": "stream",
     "text": [
      "hit 99 :  True\n"
     ]
    },
    {
     "name": "stderr",
     "output_type": "stream",
     "text": [
      "\n"
     ]
    }
   ],
   "source": [
    "with tqdm.trange(100) as pbar:\n",
    "    for i in pbar:\n",
    "        os.chdir(reposRead)\n",
    "        df = pd.read_csv(\"ts_latentNoise_xyz_\"+str(i+1))\n",
    "        xy1 = df[[\"x1\",\"y1\"]]\n",
    "        y1 = df[[\"x1\"]]\n",
    "        x1 = df[[\"y1\"]]\n",
    "        x = df[[\"xt\"]]\n",
    "        y = df[[\"yt\"]]\n",
    "        xy1=xy1.to_numpy()\n",
    "        x1=x1.to_numpy()\n",
    "        y1=y1.to_numpy()\n",
    "        x=x.to_numpy()\n",
    "        y=y.to_numpy()\n",
    "        \n",
    "        distsX = covariance_matrix(sqeuclidean_distance, xy1, xy1)\n",
    "        sigma = 1/np.median(distsX)\n",
    "        K_xy = rbf_kernel_matrix({'gamma': sigma}, xy1,xy1)\n",
    "        \n",
    "        distsX = covariance_matrix(sqeuclidean_distance, x1, x1)\n",
    "        sigma = 1/np.median(distsX)\n",
    "        K_x = rbf_kernel_matrix({'gamma': sigma}, x1,x1)\n",
    "        \n",
    "        distsX = covariance_matrix(sqeuclidean_distance, y1, y1)\n",
    "        sigma = 1/np.median(distsX)\n",
    "        K_y = rbf_kernel_matrix({'gamma': sigma}, y1,y1)\n",
    "        \n",
    "        monitors_xy, params_xy = optimize_z(monitors, params, K_xy, y, epochs)\n",
    "        monitors_yx, params_yx = optimize_z(monitors, params, K_xy, x, epochs)\n",
    "        monitors_xx, params_xx = optimize_z(monitors, params, K_x, x, epochs)\n",
    "        monitors_yy, params_yy = optimize_z(monitors, params, K_y, y, epochs)\n",
    "        \n",
    "        aux_hit = (np.array(monitors_xy['errs'])+np.array(monitors_xx['errs']))[249]<(np.array(monitors_yx['errs'])+np.array(monitors_yy['errs']))[249]\n",
    "        hit.append(aux_hit)\n",
    "        print(\"hit\", i, \": \", aux_hit)\n",
    "        \n",
    "        df2 = pd.DataFrame(params_xy[\"z\"], columns=['z_xy'])\n",
    "        df3 = pd.DataFrame(params_yx[\"z\"], columns=['z_yx'])\n",
    "        df4 = pd.DataFrame(params_xx[\"z\"], columns=['z_xx'])\n",
    "        df5 = pd.DataFrame(params_yy[\"z\"], columns=['z_yy'])\n",
    "        df = df.join(df2).join(df3).join(df4).join(df5)\n",
    "        os.chdir(reposWrite)\n",
    "        df.to_csv(r'ts_latentNoise_xyz_est_'+str(i+1), index = False)\n"
   ]
  },
  {
   "cell_type": "code",
   "execution_count": 203,
   "metadata": {},
   "outputs": [
    {
     "data": {
      "text/plain": [
       "DeviceArray(58, dtype=int32)"
      ]
     },
     "execution_count": 203,
     "metadata": {},
     "output_type": "execute_result"
    }
   ],
   "source": [
    "sum(hit)"
   ]
  },
  {
   "cell_type": "code",
   "execution_count": null,
   "metadata": {},
   "outputs": [],
   "source": []
  },
  {
   "cell_type": "code",
   "execution_count": null,
   "metadata": {},
   "outputs": [],
   "source": []
  },
  {
   "cell_type": "code",
   "execution_count": null,
   "metadata": {},
   "outputs": [],
   "source": []
  }
 ],
 "metadata": {
  "kernelspec": {
   "display_name": "Python 3",
   "language": "python",
   "name": "python3"
  },
  "language_info": {
   "codemirror_mode": {
    "name": "ipython",
    "version": 3
   },
   "file_extension": ".py",
   "mimetype": "text/x-python",
   "name": "python",
   "nbconvert_exporter": "python",
   "pygments_lexer": "ipython3",
   "version": "3.7.4"
  }
 },
 "nbformat": 4,
 "nbformat_minor": 2
}
